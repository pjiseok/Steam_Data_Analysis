{
 "cells": [
  {
   "cell_type": "code",
   "execution_count": 46,
   "id": "754f71d6",
   "metadata": {
    "scrolled": true
   },
   "outputs": [],
   "source": [
    "import pandas as pd\n",
    "import numpy as np\n",
    "import matplotlib.pyplot as plt\n",
    "import seaborn as sns\n",
    "%matplotlib inline"
   ]
  },
  {
   "cell_type": "code",
   "execution_count": 47,
   "id": "64fceb82",
   "metadata": {},
   "outputs": [],
   "source": [
    "df = pd.read_csv('Games.csv')"
   ]
  },
  {
   "cell_type": "code",
   "execution_count": 48,
   "id": "9ff9107a",
   "metadata": {},
   "outputs": [
    {
     "name": "stdout",
     "output_type": "stream",
     "text": [
      "<class 'pandas.core.frame.DataFrame'>\n",
      "RangeIndex: 175 entries, 0 to 174\n",
      "Data columns (total 7 columns):\n",
      " #   Column     Non-Null Count  Dtype  \n",
      "---  ------     --------------  -----  \n",
      " 0   Name       175 non-null    object \n",
      " 1   Sales      175 non-null    float64\n",
      " 2   Series     139 non-null    object \n",
      " 3   Release    175 non-null    object \n",
      " 4   Genre      175 non-null    object \n",
      " 5   Developer  175 non-null    object \n",
      " 6   Publisher  175 non-null    object \n",
      "dtypes: float64(1), object(6)\n",
      "memory usage: 9.7+ KB\n"
     ]
    }
   ],
   "source": [
    "df.info()"
   ]
  },
  {
   "cell_type": "code",
   "execution_count": 49,
   "id": "0d5cbff1",
   "metadata": {},
   "outputs": [
    {
     "data": {
      "text/html": [
       "<div>\n",
       "<style scoped>\n",
       "    .dataframe tbody tr th:only-of-type {\n",
       "        vertical-align: middle;\n",
       "    }\n",
       "\n",
       "    .dataframe tbody tr th {\n",
       "        vertical-align: top;\n",
       "    }\n",
       "\n",
       "    .dataframe thead th {\n",
       "        text-align: right;\n",
       "    }\n",
       "</style>\n",
       "<table border=\"1\" class=\"dataframe\">\n",
       "  <thead>\n",
       "    <tr style=\"text-align: right;\">\n",
       "      <th></th>\n",
       "      <th>Name</th>\n",
       "      <th>Sales</th>\n",
       "      <th>Series</th>\n",
       "      <th>Release</th>\n",
       "      <th>Genre</th>\n",
       "      <th>Developer</th>\n",
       "      <th>Publisher</th>\n",
       "    </tr>\n",
       "  </thead>\n",
       "  <tbody>\n",
       "    <tr>\n",
       "      <th>0</th>\n",
       "      <td>PlayerUnknown's Battlegrounds</td>\n",
       "      <td>42.0</td>\n",
       "      <td>NaN</td>\n",
       "      <td>Dec-17</td>\n",
       "      <td>Battle royale</td>\n",
       "      <td>PUBG Studios</td>\n",
       "      <td>Krafton</td>\n",
       "    </tr>\n",
       "    <tr>\n",
       "      <th>1</th>\n",
       "      <td>Minecraft</td>\n",
       "      <td>33.0</td>\n",
       "      <td>Minecraft</td>\n",
       "      <td>Nov-11</td>\n",
       "      <td>Sandbox, survival</td>\n",
       "      <td>Mojang Studios</td>\n",
       "      <td>Mojang Studios</td>\n",
       "    </tr>\n",
       "    <tr>\n",
       "      <th>2</th>\n",
       "      <td>Diablo III</td>\n",
       "      <td>20.0</td>\n",
       "      <td>Diablo</td>\n",
       "      <td>May-12</td>\n",
       "      <td>Action role-playing</td>\n",
       "      <td>Blizzard Entertainment</td>\n",
       "      <td>Blizzard Entertainment</td>\n",
       "    </tr>\n",
       "    <tr>\n",
       "      <th>3</th>\n",
       "      <td>Garry's Mod</td>\n",
       "      <td>20.0</td>\n",
       "      <td>NaN</td>\n",
       "      <td>Nov-06</td>\n",
       "      <td>Sandbox</td>\n",
       "      <td>Facepunch Studios</td>\n",
       "      <td>Valve</td>\n",
       "    </tr>\n",
       "    <tr>\n",
       "      <th>4</th>\n",
       "      <td>Terraria</td>\n",
       "      <td>17.2</td>\n",
       "      <td>NaN</td>\n",
       "      <td>May-11</td>\n",
       "      <td>Action-adventure</td>\n",
       "      <td>Re-Logic</td>\n",
       "      <td>Re-Logic</td>\n",
       "    </tr>\n",
       "    <tr>\n",
       "      <th>5</th>\n",
       "      <td>World of Warcraft</td>\n",
       "      <td>14.0</td>\n",
       "      <td>Warcraft</td>\n",
       "      <td>Nov-04</td>\n",
       "      <td>MMORPG</td>\n",
       "      <td>Blizzard Entertainment</td>\n",
       "      <td>Blizzard Entertainment</td>\n",
       "    </tr>\n",
       "    <tr>\n",
       "      <th>6</th>\n",
       "      <td>Half-Life 2</td>\n",
       "      <td>12.0</td>\n",
       "      <td>Half-Life</td>\n",
       "      <td>Nov-04</td>\n",
       "      <td>First-person shooter</td>\n",
       "      <td>Valve</td>\n",
       "      <td>Valve (digital)</td>\n",
       "    </tr>\n",
       "    <tr>\n",
       "      <th>7</th>\n",
       "      <td>The Witcher 3: Wild Hunt</td>\n",
       "      <td>12.0</td>\n",
       "      <td>The Witcher</td>\n",
       "      <td>May-15</td>\n",
       "      <td>Action role-playing</td>\n",
       "      <td>CD Projekt Red</td>\n",
       "      <td>CD Projekt</td>\n",
       "    </tr>\n",
       "    <tr>\n",
       "      <th>8</th>\n",
       "      <td>StarCraft</td>\n",
       "      <td>11.0</td>\n",
       "      <td>StarCraft</td>\n",
       "      <td>Mar-98</td>\n",
       "      <td>Real-time strategy</td>\n",
       "      <td>Blizzard Entertainment</td>\n",
       "      <td>Blizzard Entertainment</td>\n",
       "    </tr>\n",
       "    <tr>\n",
       "      <th>9</th>\n",
       "      <td>The Sims</td>\n",
       "      <td>11.0</td>\n",
       "      <td>The Sims</td>\n",
       "      <td>Feb-00</td>\n",
       "      <td>Life simulation</td>\n",
       "      <td>Maxis</td>\n",
       "      <td>Electronic Arts</td>\n",
       "    </tr>\n",
       "    <tr>\n",
       "      <th>10</th>\n",
       "      <td>Fall Guys</td>\n",
       "      <td>10.0</td>\n",
       "      <td>NaN</td>\n",
       "      <td>Aug-20</td>\n",
       "      <td>Battle royale</td>\n",
       "      <td>Mediatonic</td>\n",
       "      <td>Devolver Digital</td>\n",
       "    </tr>\n",
       "    <tr>\n",
       "      <th>11</th>\n",
       "      <td>RollerCoaster Tycoon 3</td>\n",
       "      <td>10.0</td>\n",
       "      <td>RollerCoaster Tycoon</td>\n",
       "      <td>Oct-04</td>\n",
       "      <td>Construction and management simulation</td>\n",
       "      <td>Frontier Developments</td>\n",
       "      <td>Atari, Inc. (Windows)</td>\n",
       "    </tr>\n",
       "    <tr>\n",
       "      <th>12</th>\n",
       "      <td>Half-Life</td>\n",
       "      <td>9.0</td>\n",
       "      <td>Half-Life</td>\n",
       "      <td>Nov-98</td>\n",
       "      <td>First-person shooter</td>\n",
       "      <td>Valve</td>\n",
       "      <td>Sierra Entertainment</td>\n",
       "    </tr>\n",
       "    <tr>\n",
       "      <th>13</th>\n",
       "      <td>Rust</td>\n",
       "      <td>9.0</td>\n",
       "      <td>NaN</td>\n",
       "      <td>Feb-18</td>\n",
       "      <td>Survival</td>\n",
       "      <td>Facepunch Studios</td>\n",
       "      <td>Facepunch Studios</td>\n",
       "    </tr>\n",
       "    <tr>\n",
       "      <th>14</th>\n",
       "      <td>Civilization V</td>\n",
       "      <td>8.0</td>\n",
       "      <td>Civilization</td>\n",
       "      <td>Sep-10</td>\n",
       "      <td>Turn-based strategy, 4X</td>\n",
       "      <td>Firaxis Games</td>\n",
       "      <td>2K Games &amp; Aspyr</td>\n",
       "    </tr>\n",
       "    <tr>\n",
       "      <th>15</th>\n",
       "      <td>The Sims 3</td>\n",
       "      <td>7.0</td>\n",
       "      <td>The Sims</td>\n",
       "      <td>Jun-09</td>\n",
       "      <td>Life simulation</td>\n",
       "      <td>Maxis</td>\n",
       "      <td>Electronic Arts</td>\n",
       "    </tr>\n",
       "    <tr>\n",
       "      <th>16</th>\n",
       "      <td>Euro Truck Simulator 2</td>\n",
       "      <td>6.5</td>\n",
       "      <td>Truck Simulator</td>\n",
       "      <td>Oct-12</td>\n",
       "      <td>Vehicle simulation</td>\n",
       "      <td>SCS Software</td>\n",
       "      <td>SCS Software</td>\n",
       "    </tr>\n",
       "    <tr>\n",
       "      <th>17</th>\n",
       "      <td>Guild Wars</td>\n",
       "      <td>6.0</td>\n",
       "      <td>Guild Wars</td>\n",
       "      <td>Apr-05</td>\n",
       "      <td>MMORPG</td>\n",
       "      <td>ArenaNet</td>\n",
       "      <td>NCsoft</td>\n",
       "    </tr>\n",
       "    <tr>\n",
       "      <th>18</th>\n",
       "      <td>StarCraft II: Wings of Liberty</td>\n",
       "      <td>6.0</td>\n",
       "      <td>StarCraft</td>\n",
       "      <td>Jul-10</td>\n",
       "      <td>Real-time strategy</td>\n",
       "      <td>Blizzard Entertainment</td>\n",
       "      <td>Blizzard Entertainment</td>\n",
       "    </tr>\n",
       "    <tr>\n",
       "      <th>19</th>\n",
       "      <td>The Sims 2</td>\n",
       "      <td>6.0</td>\n",
       "      <td>The Sims</td>\n",
       "      <td>Sep-04</td>\n",
       "      <td>Life simulation</td>\n",
       "      <td>Maxis</td>\n",
       "      <td>Electronic Arts</td>\n",
       "    </tr>\n",
       "  </tbody>\n",
       "</table>\n",
       "</div>"
      ],
      "text/plain": [
       "                              Name  Sales                Series Release  \\\n",
       "0    PlayerUnknown's Battlegrounds   42.0                   NaN  Dec-17   \n",
       "1                        Minecraft   33.0             Minecraft  Nov-11   \n",
       "2                       Diablo III   20.0                Diablo  May-12   \n",
       "3                      Garry's Mod   20.0                   NaN  Nov-06   \n",
       "4                         Terraria   17.2                   NaN  May-11   \n",
       "5                World of Warcraft   14.0              Warcraft  Nov-04   \n",
       "6                      Half-Life 2   12.0             Half-Life  Nov-04   \n",
       "7         The Witcher 3: Wild Hunt   12.0           The Witcher  May-15   \n",
       "8                        StarCraft   11.0             StarCraft  Mar-98   \n",
       "9                         The Sims   11.0              The Sims  Feb-00   \n",
       "10                       Fall Guys   10.0                   NaN  Aug-20   \n",
       "11          RollerCoaster Tycoon 3   10.0  RollerCoaster Tycoon  Oct-04   \n",
       "12                       Half-Life    9.0             Half-Life  Nov-98   \n",
       "13                            Rust    9.0                   NaN  Feb-18   \n",
       "14                  Civilization V    8.0          Civilization  Sep-10   \n",
       "15                      The Sims 3    7.0              The Sims  Jun-09   \n",
       "16          Euro Truck Simulator 2    6.5       Truck Simulator  Oct-12   \n",
       "17                      Guild Wars    6.0            Guild Wars  Apr-05   \n",
       "18  StarCraft II: Wings of Liberty    6.0             StarCraft  Jul-10   \n",
       "19                      The Sims 2    6.0              The Sims  Sep-04   \n",
       "\n",
       "                                     Genre               Developer  \\\n",
       "0                            Battle royale            PUBG Studios   \n",
       "1                        Sandbox, survival          Mojang Studios   \n",
       "2                      Action role-playing  Blizzard Entertainment   \n",
       "3                                  Sandbox       Facepunch Studios   \n",
       "4                         Action-adventure                Re-Logic   \n",
       "5                                   MMORPG  Blizzard Entertainment   \n",
       "6                     First-person shooter                   Valve   \n",
       "7                      Action role-playing          CD Projekt Red   \n",
       "8                       Real-time strategy  Blizzard Entertainment   \n",
       "9                          Life simulation                   Maxis   \n",
       "10                           Battle royale              Mediatonic   \n",
       "11  Construction and management simulation   Frontier Developments   \n",
       "12                    First-person shooter                   Valve   \n",
       "13                                Survival       Facepunch Studios   \n",
       "14                 Turn-based strategy, 4X           Firaxis Games   \n",
       "15                         Life simulation                   Maxis   \n",
       "16                      Vehicle simulation            SCS Software   \n",
       "17                                  MMORPG                ArenaNet   \n",
       "18                      Real-time strategy  Blizzard Entertainment   \n",
       "19                         Life simulation                   Maxis   \n",
       "\n",
       "                 Publisher  \n",
       "0                  Krafton  \n",
       "1           Mojang Studios  \n",
       "2   Blizzard Entertainment  \n",
       "3                    Valve  \n",
       "4                 Re-Logic  \n",
       "5   Blizzard Entertainment  \n",
       "6          Valve (digital)  \n",
       "7               CD Projekt  \n",
       "8   Blizzard Entertainment  \n",
       "9          Electronic Arts  \n",
       "10        Devolver Digital  \n",
       "11   Atari, Inc. (Windows)  \n",
       "12    Sierra Entertainment  \n",
       "13       Facepunch Studios  \n",
       "14        2K Games & Aspyr  \n",
       "15         Electronic Arts  \n",
       "16            SCS Software  \n",
       "17                  NCsoft  \n",
       "18  Blizzard Entertainment  \n",
       "19         Electronic Arts  "
      ]
     },
     "execution_count": 49,
     "metadata": {},
     "output_type": "execute_result"
    }
   ],
   "source": [
    "df[0:20]"
   ]
  },
  {
   "cell_type": "code",
   "execution_count": 50,
   "id": "9dadb67e",
   "metadata": {},
   "outputs": [],
   "source": [
    "d = pd.Series(df['Release'])\n",
    "df['Month'] = d.str.split(\"-\", expand = True)[0]\n",
    "df['Year'] = d.str.split(\"-\", expand = True)[1]"
   ]
  },
  {
   "cell_type": "code",
   "execution_count": 51,
   "id": "8121cbc5",
   "metadata": {},
   "outputs": [],
   "source": [
    "def months(Month):\n",
    "    if  Month == 'Dec':\n",
    "        Month = 12\n",
    "    if Month == 'Nov':\n",
    "        Month = 11\n",
    "    if Month == 'Oct':\n",
    "        Month = 10\n",
    "    if Month == 'Sep':\n",
    "        Month = 9\n",
    "    if Month == 'Aug':\n",
    "        Month = 8\n",
    "    if Month == 'Jul':\n",
    "        Month = 7\n",
    "    if Month == 'Jun':\n",
    "        Month = 6\n",
    "    if Month == 'May':\n",
    "        Month = 5\n",
    "    if Month == 'April':\n",
    "        Month = 4\n",
    "    if Month == 'Mar':\n",
    "        Month = 3\n",
    "    if Month == 'Feb':\n",
    "        Month = 2\n",
    "    if Month == 'Jan':\n",
    "        Month = 1\n",
    "    return Month"
   ]
  },
  {
   "cell_type": "code",
   "execution_count": 52,
   "id": "97d321b8",
   "metadata": {},
   "outputs": [],
   "source": [
    "df['Month'] = df['Month'].apply(months)"
   ]
  },
  {
   "cell_type": "code",
   "execution_count": 53,
   "id": "d6ebccdb",
   "metadata": {},
   "outputs": [],
   "source": [
    "p = np.random.randint(15)\n",
    "c = str(p)"
   ]
  },
  {
   "cell_type": "code",
   "execution_count": 54,
   "id": "af5fe752",
   "metadata": {},
   "outputs": [],
   "source": [
    "df['Release_Date'] = df.Month.astype(str) + '/' + c + '/' + df.Year.astype(str)"
   ]
  },
  {
   "cell_type": "code",
   "execution_count": 55,
   "id": "f5b0add2",
   "metadata": {},
   "outputs": [],
   "source": [
    "df['Release_Date'] = pd.to_datetime(df['Release_Date'])"
   ]
  },
  {
   "cell_type": "code",
   "execution_count": 56,
   "id": "35f479c7",
   "metadata": {},
   "outputs": [
    {
     "name": "stdout",
     "output_type": "stream",
     "text": [
      "<class 'pandas.core.frame.DataFrame'>\n",
      "RangeIndex: 175 entries, 0 to 174\n",
      "Data columns (total 7 columns):\n",
      " #   Column        Non-Null Count  Dtype         \n",
      "---  ------        --------------  -----         \n",
      " 0   Name          175 non-null    object        \n",
      " 1   Release_Date  175 non-null    datetime64[ns]\n",
      " 2   Sales         175 non-null    float64       \n",
      " 3   Series        139 non-null    object        \n",
      " 4   Genre         175 non-null    object        \n",
      " 5   Developer     175 non-null    object        \n",
      " 6   Publisher     175 non-null    object        \n",
      "dtypes: datetime64[ns](1), float64(1), object(5)\n",
      "memory usage: 9.7+ KB\n"
     ]
    }
   ],
   "source": [
    "df.drop(columns = ['Release','Month','Year'], axis = 1, inplace = True)\n",
    "df = df.reindex(columns = ['Name','Release_Date','Sales','Series','Genre','Developer','Publisher'])\n",
    "df.info()"
   ]
  },
  {
   "cell_type": "code",
   "execution_count": 57,
   "id": "85de6c87",
   "metadata": {
    "scrolled": true
   },
   "outputs": [
    {
     "data": {
      "text/html": [
       "<div>\n",
       "<style scoped>\n",
       "    .dataframe tbody tr th:only-of-type {\n",
       "        vertical-align: middle;\n",
       "    }\n",
       "\n",
       "    .dataframe tbody tr th {\n",
       "        vertical-align: top;\n",
       "    }\n",
       "\n",
       "    .dataframe thead th {\n",
       "        text-align: right;\n",
       "    }\n",
       "</style>\n",
       "<table border=\"1\" class=\"dataframe\">\n",
       "  <thead>\n",
       "    <tr style=\"text-align: right;\">\n",
       "      <th></th>\n",
       "      <th>Name</th>\n",
       "      <th>Release_Date</th>\n",
       "      <th>Sales</th>\n",
       "      <th>Series</th>\n",
       "      <th>Genre</th>\n",
       "      <th>Developer</th>\n",
       "      <th>Publisher</th>\n",
       "    </tr>\n",
       "  </thead>\n",
       "  <tbody>\n",
       "    <tr>\n",
       "      <th>0</th>\n",
       "      <td>PlayerUnknown's Battlegrounds</td>\n",
       "      <td>2017-12-07</td>\n",
       "      <td>42.0</td>\n",
       "      <td>NaN</td>\n",
       "      <td>Battle royale</td>\n",
       "      <td>PUBG Studios</td>\n",
       "      <td>Krafton</td>\n",
       "    </tr>\n",
       "    <tr>\n",
       "      <th>1</th>\n",
       "      <td>Minecraft</td>\n",
       "      <td>2011-11-07</td>\n",
       "      <td>33.0</td>\n",
       "      <td>Minecraft</td>\n",
       "      <td>Sandbox, survival</td>\n",
       "      <td>Mojang Studios</td>\n",
       "      <td>Mojang Studios</td>\n",
       "    </tr>\n",
       "    <tr>\n",
       "      <th>2</th>\n",
       "      <td>Diablo III</td>\n",
       "      <td>2012-05-07</td>\n",
       "      <td>20.0</td>\n",
       "      <td>Diablo</td>\n",
       "      <td>Action role-playing</td>\n",
       "      <td>Blizzard Entertainment</td>\n",
       "      <td>Blizzard Entertainment</td>\n",
       "    </tr>\n",
       "    <tr>\n",
       "      <th>3</th>\n",
       "      <td>Garry's Mod</td>\n",
       "      <td>2006-11-07</td>\n",
       "      <td>20.0</td>\n",
       "      <td>NaN</td>\n",
       "      <td>Sandbox</td>\n",
       "      <td>Facepunch Studios</td>\n",
       "      <td>Valve</td>\n",
       "    </tr>\n",
       "    <tr>\n",
       "      <th>4</th>\n",
       "      <td>Terraria</td>\n",
       "      <td>2011-05-07</td>\n",
       "      <td>17.2</td>\n",
       "      <td>NaN</td>\n",
       "      <td>Action-adventure</td>\n",
       "      <td>Re-Logic</td>\n",
       "      <td>Re-Logic</td>\n",
       "    </tr>\n",
       "    <tr>\n",
       "      <th>5</th>\n",
       "      <td>World of Warcraft</td>\n",
       "      <td>2004-11-07</td>\n",
       "      <td>14.0</td>\n",
       "      <td>Warcraft</td>\n",
       "      <td>MMORPG</td>\n",
       "      <td>Blizzard Entertainment</td>\n",
       "      <td>Blizzard Entertainment</td>\n",
       "    </tr>\n",
       "    <tr>\n",
       "      <th>6</th>\n",
       "      <td>Half-Life 2</td>\n",
       "      <td>2004-11-07</td>\n",
       "      <td>12.0</td>\n",
       "      <td>Half-Life</td>\n",
       "      <td>First-person shooter</td>\n",
       "      <td>Valve</td>\n",
       "      <td>Valve (digital)</td>\n",
       "    </tr>\n",
       "    <tr>\n",
       "      <th>7</th>\n",
       "      <td>The Witcher 3: Wild Hunt</td>\n",
       "      <td>2015-05-07</td>\n",
       "      <td>12.0</td>\n",
       "      <td>The Witcher</td>\n",
       "      <td>Action role-playing</td>\n",
       "      <td>CD Projekt Red</td>\n",
       "      <td>CD Projekt</td>\n",
       "    </tr>\n",
       "    <tr>\n",
       "      <th>8</th>\n",
       "      <td>StarCraft</td>\n",
       "      <td>1998-03-07</td>\n",
       "      <td>11.0</td>\n",
       "      <td>StarCraft</td>\n",
       "      <td>Real-time strategy</td>\n",
       "      <td>Blizzard Entertainment</td>\n",
       "      <td>Blizzard Entertainment</td>\n",
       "    </tr>\n",
       "    <tr>\n",
       "      <th>9</th>\n",
       "      <td>The Sims</td>\n",
       "      <td>2000-02-07</td>\n",
       "      <td>11.0</td>\n",
       "      <td>The Sims</td>\n",
       "      <td>Life simulation</td>\n",
       "      <td>Maxis</td>\n",
       "      <td>Electronic Arts</td>\n",
       "    </tr>\n",
       "    <tr>\n",
       "      <th>10</th>\n",
       "      <td>Fall Guys</td>\n",
       "      <td>2020-08-07</td>\n",
       "      <td>10.0</td>\n",
       "      <td>NaN</td>\n",
       "      <td>Battle royale</td>\n",
       "      <td>Mediatonic</td>\n",
       "      <td>Devolver Digital</td>\n",
       "    </tr>\n",
       "    <tr>\n",
       "      <th>11</th>\n",
       "      <td>RollerCoaster Tycoon 3</td>\n",
       "      <td>2004-10-07</td>\n",
       "      <td>10.0</td>\n",
       "      <td>RollerCoaster Tycoon</td>\n",
       "      <td>Construction and management simulation</td>\n",
       "      <td>Frontier Developments</td>\n",
       "      <td>Atari, Inc. (Windows)</td>\n",
       "    </tr>\n",
       "    <tr>\n",
       "      <th>12</th>\n",
       "      <td>Half-Life</td>\n",
       "      <td>1998-11-07</td>\n",
       "      <td>9.0</td>\n",
       "      <td>Half-Life</td>\n",
       "      <td>First-person shooter</td>\n",
       "      <td>Valve</td>\n",
       "      <td>Sierra Entertainment</td>\n",
       "    </tr>\n",
       "    <tr>\n",
       "      <th>13</th>\n",
       "      <td>Rust</td>\n",
       "      <td>2018-02-07</td>\n",
       "      <td>9.0</td>\n",
       "      <td>NaN</td>\n",
       "      <td>Survival</td>\n",
       "      <td>Facepunch Studios</td>\n",
       "      <td>Facepunch Studios</td>\n",
       "    </tr>\n",
       "    <tr>\n",
       "      <th>14</th>\n",
       "      <td>Civilization V</td>\n",
       "      <td>2010-09-07</td>\n",
       "      <td>8.0</td>\n",
       "      <td>Civilization</td>\n",
       "      <td>Turn-based strategy, 4X</td>\n",
       "      <td>Firaxis Games</td>\n",
       "      <td>2K Games &amp; Aspyr</td>\n",
       "    </tr>\n",
       "    <tr>\n",
       "      <th>15</th>\n",
       "      <td>The Sims 3</td>\n",
       "      <td>2009-06-07</td>\n",
       "      <td>7.0</td>\n",
       "      <td>The Sims</td>\n",
       "      <td>Life simulation</td>\n",
       "      <td>Maxis</td>\n",
       "      <td>Electronic Arts</td>\n",
       "    </tr>\n",
       "    <tr>\n",
       "      <th>16</th>\n",
       "      <td>Euro Truck Simulator 2</td>\n",
       "      <td>2012-10-07</td>\n",
       "      <td>6.5</td>\n",
       "      <td>Truck Simulator</td>\n",
       "      <td>Vehicle simulation</td>\n",
       "      <td>SCS Software</td>\n",
       "      <td>SCS Software</td>\n",
       "    </tr>\n",
       "    <tr>\n",
       "      <th>17</th>\n",
       "      <td>Guild Wars</td>\n",
       "      <td>2005-04-07</td>\n",
       "      <td>6.0</td>\n",
       "      <td>Guild Wars</td>\n",
       "      <td>MMORPG</td>\n",
       "      <td>ArenaNet</td>\n",
       "      <td>NCsoft</td>\n",
       "    </tr>\n",
       "    <tr>\n",
       "      <th>18</th>\n",
       "      <td>StarCraft II: Wings of Liberty</td>\n",
       "      <td>2010-07-07</td>\n",
       "      <td>6.0</td>\n",
       "      <td>StarCraft</td>\n",
       "      <td>Real-time strategy</td>\n",
       "      <td>Blizzard Entertainment</td>\n",
       "      <td>Blizzard Entertainment</td>\n",
       "    </tr>\n",
       "    <tr>\n",
       "      <th>19</th>\n",
       "      <td>The Sims 2</td>\n",
       "      <td>2004-09-07</td>\n",
       "      <td>6.0</td>\n",
       "      <td>The Sims</td>\n",
       "      <td>Life simulation</td>\n",
       "      <td>Maxis</td>\n",
       "      <td>Electronic Arts</td>\n",
       "    </tr>\n",
       "  </tbody>\n",
       "</table>\n",
       "</div>"
      ],
      "text/plain": [
       "                              Name Release_Date  Sales                Series  \\\n",
       "0    PlayerUnknown's Battlegrounds   2017-12-07   42.0                   NaN   \n",
       "1                        Minecraft   2011-11-07   33.0             Minecraft   \n",
       "2                       Diablo III   2012-05-07   20.0                Diablo   \n",
       "3                      Garry's Mod   2006-11-07   20.0                   NaN   \n",
       "4                         Terraria   2011-05-07   17.2                   NaN   \n",
       "5                World of Warcraft   2004-11-07   14.0              Warcraft   \n",
       "6                      Half-Life 2   2004-11-07   12.0             Half-Life   \n",
       "7         The Witcher 3: Wild Hunt   2015-05-07   12.0           The Witcher   \n",
       "8                        StarCraft   1998-03-07   11.0             StarCraft   \n",
       "9                         The Sims   2000-02-07   11.0              The Sims   \n",
       "10                       Fall Guys   2020-08-07   10.0                   NaN   \n",
       "11          RollerCoaster Tycoon 3   2004-10-07   10.0  RollerCoaster Tycoon   \n",
       "12                       Half-Life   1998-11-07    9.0             Half-Life   \n",
       "13                            Rust   2018-02-07    9.0                   NaN   \n",
       "14                  Civilization V   2010-09-07    8.0          Civilization   \n",
       "15                      The Sims 3   2009-06-07    7.0              The Sims   \n",
       "16          Euro Truck Simulator 2   2012-10-07    6.5       Truck Simulator   \n",
       "17                      Guild Wars   2005-04-07    6.0            Guild Wars   \n",
       "18  StarCraft II: Wings of Liberty   2010-07-07    6.0             StarCraft   \n",
       "19                      The Sims 2   2004-09-07    6.0              The Sims   \n",
       "\n",
       "                                     Genre               Developer  \\\n",
       "0                            Battle royale            PUBG Studios   \n",
       "1                        Sandbox, survival          Mojang Studios   \n",
       "2                      Action role-playing  Blizzard Entertainment   \n",
       "3                                  Sandbox       Facepunch Studios   \n",
       "4                         Action-adventure                Re-Logic   \n",
       "5                                   MMORPG  Blizzard Entertainment   \n",
       "6                     First-person shooter                   Valve   \n",
       "7                      Action role-playing          CD Projekt Red   \n",
       "8                       Real-time strategy  Blizzard Entertainment   \n",
       "9                          Life simulation                   Maxis   \n",
       "10                           Battle royale              Mediatonic   \n",
       "11  Construction and management simulation   Frontier Developments   \n",
       "12                    First-person shooter                   Valve   \n",
       "13                                Survival       Facepunch Studios   \n",
       "14                 Turn-based strategy, 4X           Firaxis Games   \n",
       "15                         Life simulation                   Maxis   \n",
       "16                      Vehicle simulation            SCS Software   \n",
       "17                                  MMORPG                ArenaNet   \n",
       "18                      Real-time strategy  Blizzard Entertainment   \n",
       "19                         Life simulation                   Maxis   \n",
       "\n",
       "                 Publisher  \n",
       "0                  Krafton  \n",
       "1           Mojang Studios  \n",
       "2   Blizzard Entertainment  \n",
       "3                    Valve  \n",
       "4                 Re-Logic  \n",
       "5   Blizzard Entertainment  \n",
       "6          Valve (digital)  \n",
       "7               CD Projekt  \n",
       "8   Blizzard Entertainment  \n",
       "9          Electronic Arts  \n",
       "10        Devolver Digital  \n",
       "11   Atari, Inc. (Windows)  \n",
       "12    Sierra Entertainment  \n",
       "13       Facepunch Studios  \n",
       "14        2K Games & Aspyr  \n",
       "15         Electronic Arts  \n",
       "16            SCS Software  \n",
       "17                  NCsoft  \n",
       "18  Blizzard Entertainment  \n",
       "19         Electronic Arts  "
      ]
     },
     "execution_count": 57,
     "metadata": {},
     "output_type": "execute_result"
    }
   ],
   "source": [
    "df[0:20]"
   ]
  },
  {
   "cell_type": "code",
   "execution_count": 58,
   "id": "6c464ecb",
   "metadata": {},
   "outputs": [
    {
     "data": {
      "text/plain": [
       "Command & Conquer        5\n",
       "StarCraft                4\n",
       "Civilization             4\n",
       "Age of Empires           4\n",
       "Warcraft                 3\n",
       "                        ..\n",
       "Alice                    1\n",
       "Ark: Survival Evolved    1\n",
       "BioShock                 1\n",
       "Commandos                1\n",
       "Zoo Tycoon               1\n",
       "Name: Series, Length: 91, dtype: int64"
      ]
     },
     "execution_count": 58,
     "metadata": {},
     "output_type": "execute_result"
    }
   ],
   "source": [
    "df['Series'].value_counts()"
   ]
  },
  {
   "cell_type": "code",
   "execution_count": 59,
   "id": "2b73aa7f",
   "metadata": {
    "scrolled": true
   },
   "outputs": [
    {
     "data": {
      "text/plain": [
       "Text(0.5, 1.0, '판매량')"
      ]
     },
     "execution_count": 59,
     "metadata": {},
     "output_type": "execute_result"
    },
    {
     "data": {
      "image/png": "[encoded data removed]",
      "text/plain": [
       "<Figure size 360x360 with 1 Axes>"
      ]
     },
     "metadata": {
      "needs_background": "light"
     },
     "output_type": "display_data"
    }
   ],
   "source": [
    "sns.displot(df.Sales, bins = 3, color = 'green') \n",
    "plt.rc('font',family = 'Malgun Gothic')\n",
    "plt.title ('판매량')"
   ]
  },
  {
   "cell_type": "code",
   "execution_count": 60,
   "id": "d551c4e4",
   "metadata": {},
   "outputs": [
    {
     "data": {
      "text/plain": [
       "Text(0.5, 1.0, '판매량')"
      ]
     },
     "execution_count": 60,
     "metadata": {},
     "output_type": "execute_result"
    },
    {
     "data": {
      "image/png": "[encoded data removed]",
      "text/plain": [
       "<Figure size 864x720 with 1 Axes>"
      ]
     },
     "metadata": {
      "needs_background": "light"
     },
     "output_type": "display_data"
    }
   ],
   "source": [
    "df.Sales.plot(kind = 'box', figsize = (12,10), color = 'green')\n",
    "plt.rc('font',family = 'Malgun Gothic')\n",
    "plt.title ('판매량')"
   ]
  },
  {
   "cell_type": "code",
   "execution_count": 61,
   "id": "21d89a9b",
   "metadata": {
    "scrolled": true
   },
   "outputs": [
    {
     "data": {
      "text/plain": [
       "Text(0.5, 1.0, '게임별 판매량')"
      ]
     },
     "execution_count": 61,
     "metadata": {},
     "output_type": "execute_result"
    },
    {
     "data": {
      "image/png": "[encoded data removed]",
      "text/plain": [
       "<Figure size 432x288 with 1 Axes>"
      ]
     },
     "metadata": {
      "needs_background": "light"
     },
     "output_type": "display_data"
    }
   ],
   "source": [
    "dr = pd.pivot_table(df, index = 'Name', values = ['Sales'], aggfunc = np.sum)\n",
    "dr.sort_values(by = 'Sales', ascending = False).head(20).plot(kind = 'barh', color = 'green')\n",
    "plt.rc('font',family = 'Malgun Gothic')\n",
    "plt.title ('게임별 판매량')"
   ]
  },
  {
   "cell_type": "code",
   "execution_count": 62,
   "id": "931f2e4e",
   "metadata": {
    "scrolled": true
   },
   "outputs": [
    {
     "data": {
      "text/plain": [
       "Text(0.5, 1.0, '장르별 판매량')"
      ]
     },
     "execution_count": 62,
     "metadata": {},
     "output_type": "execute_result"
    },
    {
     "data": {
      "image/png": "[encoded data removed]",
      "text/plain": [
       "<Figure size 432x288 with 1 Axes>"
      ]
     },
     "metadata": {
      "needs_background": "light"
     },
     "output_type": "display_data"
    }
   ],
   "source": [
    "dr = pd.pivot_table(df, index = 'Genre', values = ['Sales'], aggfunc = np.sum)\n",
    "dr.sort_values(by = 'Sales', ascending = False).head(20).plot(kind = 'barh', color = 'green')\n",
    "plt.rc('font',family = 'Malgun Gothic')\n",
    "plt.title ('장르별 판매량')"
   ]
  },
  {
   "cell_type": "code",
   "execution_count": 63,
   "id": "902480ca",
   "metadata": {
    "scrolled": true
   },
   "outputs": [
    {
     "data": {
      "text/plain": [
       "Text(0.5, 1.0, '장르별 판매량')"
      ]
     },
     "execution_count": 63,
     "metadata": {},
     "output_type": "execute_result"
    },
    {
     "data": {
      "image/png": "[encoded data removed]",
      "text/plain": [
       "<Figure size 648x648 with 1 Axes>"
      ]
     },
     "metadata": {
      "needs_background": "light"
     },
     "output_type": "display_data"
    }
   ],
   "source": [
    "df.Sales.plot(kind = 'box', figsize = (9,9), color  = 'green')\n",
    "plt.rc('font',family = 'Malgun Gothic')\n",
    "plt.title ('장르별 판매량')"
   ]
  },
  {
   "cell_type": "code",
   "execution_count": 64,
   "id": "4bcd29b7",
   "metadata": {},
   "outputs": [
    {
     "data": {
      "text/plain": [
       "Text(0.5, 1.0, '장르별 게임개수')"
      ]
     },
     "execution_count": 64,
     "metadata": {},
     "output_type": "execute_result"
    },
    {
     "data": {
      "image/png": "[encoded data removed]",
      "text/plain": [
       "<Figure size 432x288 with 1 Axes>"
      ]
     },
     "metadata": {
      "needs_background": "light"
     },
     "output_type": "display_data"
    }
   ],
   "source": [
    "df.Genre.value_counts().head(20).plot(kind = 'barh', color = 'green')\n",
    "plt.rc('font',family = 'Malgun Gothic')\n",
    "plt.title ('장르별 게임개수')"
   ]
  },
  {
   "cell_type": "code",
   "execution_count": 65,
   "id": "7136d822",
   "metadata": {},
   "outputs": [
    {
     "data": {
      "text/plain": [
       "Real-time strategy                        24\n",
       "First-person shooter                      19\n",
       "Action role-playing                       12\n",
       "Construction and management simulation     9\n",
       "Role-playing game                          8\n",
       "                                          ..\n",
       "Action role-playing game                   1\n",
       "Maze, arcade                               1\n",
       "Action-adventure, platformer               1\n",
       "Action-adventure, Survival                 1\n",
       "Space combat simulation                    1\n",
       "Name: Genre, Length: 61, dtype: int64"
      ]
     },
     "execution_count": 65,
     "metadata": {},
     "output_type": "execute_result"
    }
   ],
   "source": [
    "df['Genre'].value_counts()"
   ]
  },
  {
   "cell_type": "code",
   "execution_count": 66,
   "id": "3ffacba6",
   "metadata": {},
   "outputs": [
    {
     "data": {
      "text/plain": [
       "Text(0.5, 1.0, '개발자별 판매량')"
      ]
     },
     "execution_count": 66,
     "metadata": {},
     "output_type": "execute_result"
    },
    {
     "data": {
      "image/png": "[encoded data removed]",
      "text/plain": [
       "<Figure size 432x288 with 1 Axes>"
      ]
     },
     "metadata": {
      "needs_background": "light"
     },
     "output_type": "display_data"
    }
   ],
   "source": [
    "ptt = pd.pivot_table(df, index = 'Developer', values = ['Sales'])\n",
    "ptt.sort_values(by = 'Sales', ascending = False).head(20).plot(color = 'green',kind = 'barh')\n",
    "plt.rc('font',family = 'Malgun Gothic')\n",
    "plt.title ('개발자별 판매량')"
   ]
  },
  {
   "cell_type": "code",
   "execution_count": 67,
   "id": "6b5cd154",
   "metadata": {
    "scrolled": true
   },
   "outputs": [
    {
     "data": {
      "text/plain": [
       "Text(0.5, 1.0, '개발자별 판매량')"
      ]
     },
     "execution_count": 67,
     "metadata": {},
     "output_type": "execute_result"
    },
    {
     "data": {
      "image/png": "[encoded data removed]",
      "text/plain": [
       "<Figure size 648x648 with 1 Axes>"
      ]
     },
     "metadata": {
      "needs_background": "light"
     },
     "output_type": "display_data"
    }
   ],
   "source": [
    "ptt.plot(kind = 'box', figsize = (9,9), color = 'green')\n",
    "plt.rc('font',family = 'Malgun Gothic')\n",
    "plt.title ('개발자별 판매량')"
   ]
  },
  {
   "cell_type": "code",
   "execution_count": 68,
   "id": "ff6fbde5",
   "metadata": {
    "scrolled": false
   },
   "outputs": [
    {
     "data": {
      "text/html": [
       "<div>\n",
       "<style scoped>\n",
       "    .dataframe tbody tr th:only-of-type {\n",
       "        vertical-align: middle;\n",
       "    }\n",
       "\n",
       "    .dataframe tbody tr th {\n",
       "        vertical-align: top;\n",
       "    }\n",
       "\n",
       "    .dataframe thead th {\n",
       "        text-align: right;\n",
       "    }\n",
       "</style>\n",
       "<table border=\"1\" class=\"dataframe\">\n",
       "  <thead>\n",
       "    <tr style=\"text-align: right;\">\n",
       "      <th></th>\n",
       "      <th>Name</th>\n",
       "      <th>Sales</th>\n",
       "      <th>Series</th>\n",
       "      <th>Release</th>\n",
       "      <th>Genre</th>\n",
       "      <th>Developer</th>\n",
       "      <th>Publisher</th>\n",
       "    </tr>\n",
       "  </thead>\n",
       "  <tbody>\n",
       "    <tr>\n",
       "      <th>0</th>\n",
       "      <td>PlayerUnknown's Battlegrounds</td>\n",
       "      <td>42.0</td>\n",
       "      <td>NaN</td>\n",
       "      <td>Dec-17</td>\n",
       "      <td>Battle royale</td>\n",
       "      <td>PUBG Studios</td>\n",
       "      <td>Krafton</td>\n",
       "    </tr>\n",
       "    <tr>\n",
       "      <th>1</th>\n",
       "      <td>Minecraft</td>\n",
       "      <td>33.0</td>\n",
       "      <td>Minecraft</td>\n",
       "      <td>Nov-11</td>\n",
       "      <td>Sandbox, survival</td>\n",
       "      <td>Mojang Studios</td>\n",
       "      <td>Mojang Studios</td>\n",
       "    </tr>\n",
       "    <tr>\n",
       "      <th>2</th>\n",
       "      <td>Diablo III</td>\n",
       "      <td>20.0</td>\n",
       "      <td>Diablo</td>\n",
       "      <td>May-12</td>\n",
       "      <td>Action role-playing</td>\n",
       "      <td>Blizzard Entertainment</td>\n",
       "      <td>Blizzard Entertainment</td>\n",
       "    </tr>\n",
       "    <tr>\n",
       "      <th>3</th>\n",
       "      <td>Garry's Mod</td>\n",
       "      <td>20.0</td>\n",
       "      <td>NaN</td>\n",
       "      <td>Nov-06</td>\n",
       "      <td>Sandbox</td>\n",
       "      <td>Facepunch Studios</td>\n",
       "      <td>Valve</td>\n",
       "    </tr>\n",
       "    <tr>\n",
       "      <th>4</th>\n",
       "      <td>Terraria</td>\n",
       "      <td>17.2</td>\n",
       "      <td>NaN</td>\n",
       "      <td>May-11</td>\n",
       "      <td>Action-adventure</td>\n",
       "      <td>Re-Logic</td>\n",
       "      <td>Re-Logic</td>\n",
       "    </tr>\n",
       "    <tr>\n",
       "      <th>5</th>\n",
       "      <td>World of Warcraft</td>\n",
       "      <td>14.0</td>\n",
       "      <td>Warcraft</td>\n",
       "      <td>Nov-04</td>\n",
       "      <td>MMORPG</td>\n",
       "      <td>Blizzard Entertainment</td>\n",
       "      <td>Blizzard Entertainment</td>\n",
       "    </tr>\n",
       "    <tr>\n",
       "      <th>6</th>\n",
       "      <td>Half-Life 2</td>\n",
       "      <td>12.0</td>\n",
       "      <td>Half-Life</td>\n",
       "      <td>Nov-04</td>\n",
       "      <td>First-person shooter</td>\n",
       "      <td>Valve</td>\n",
       "      <td>Valve (digital)</td>\n",
       "    </tr>\n",
       "    <tr>\n",
       "      <th>7</th>\n",
       "      <td>The Witcher 3: Wild Hunt</td>\n",
       "      <td>12.0</td>\n",
       "      <td>The Witcher</td>\n",
       "      <td>May-15</td>\n",
       "      <td>Action role-playing</td>\n",
       "      <td>CD Projekt Red</td>\n",
       "      <td>CD Projekt</td>\n",
       "    </tr>\n",
       "    <tr>\n",
       "      <th>8</th>\n",
       "      <td>StarCraft</td>\n",
       "      <td>11.0</td>\n",
       "      <td>StarCraft</td>\n",
       "      <td>Mar-98</td>\n",
       "      <td>Real-time strategy</td>\n",
       "      <td>Blizzard Entertainment</td>\n",
       "      <td>Blizzard Entertainment</td>\n",
       "    </tr>\n",
       "    <tr>\n",
       "      <th>9</th>\n",
       "      <td>The Sims</td>\n",
       "      <td>11.0</td>\n",
       "      <td>The Sims</td>\n",
       "      <td>Feb-00</td>\n",
       "      <td>Life simulation</td>\n",
       "      <td>Maxis</td>\n",
       "      <td>Electronic Arts</td>\n",
       "    </tr>\n",
       "    <tr>\n",
       "      <th>10</th>\n",
       "      <td>Fall Guys</td>\n",
       "      <td>10.0</td>\n",
       "      <td>NaN</td>\n",
       "      <td>Aug-20</td>\n",
       "      <td>Battle royale</td>\n",
       "      <td>Mediatonic</td>\n",
       "      <td>Devolver Digital</td>\n",
       "    </tr>\n",
       "    <tr>\n",
       "      <th>11</th>\n",
       "      <td>RollerCoaster Tycoon 3</td>\n",
       "      <td>10.0</td>\n",
       "      <td>RollerCoaster Tycoon</td>\n",
       "      <td>Oct-04</td>\n",
       "      <td>Construction and management simulation</td>\n",
       "      <td>Frontier Developments</td>\n",
       "      <td>Atari, Inc. (Windows)</td>\n",
       "    </tr>\n",
       "    <tr>\n",
       "      <th>12</th>\n",
       "      <td>Half-Life</td>\n",
       "      <td>9.0</td>\n",
       "      <td>Half-Life</td>\n",
       "      <td>Nov-98</td>\n",
       "      <td>First-person shooter</td>\n",
       "      <td>Valve</td>\n",
       "      <td>Sierra Entertainment</td>\n",
       "    </tr>\n",
       "    <tr>\n",
       "      <th>13</th>\n",
       "      <td>Rust</td>\n",
       "      <td>9.0</td>\n",
       "      <td>NaN</td>\n",
       "      <td>Feb-18</td>\n",
       "      <td>Survival</td>\n",
       "      <td>Facepunch Studios</td>\n",
       "      <td>Facepunch Studios</td>\n",
       "    </tr>\n",
       "    <tr>\n",
       "      <th>14</th>\n",
       "      <td>Civilization V</td>\n",
       "      <td>8.0</td>\n",
       "      <td>Civilization</td>\n",
       "      <td>Sep-10</td>\n",
       "      <td>Turn-based strategy, 4X</td>\n",
       "      <td>Firaxis Games</td>\n",
       "      <td>2K Games &amp; Aspyr</td>\n",
       "    </tr>\n",
       "    <tr>\n",
       "      <th>15</th>\n",
       "      <td>The Sims 3</td>\n",
       "      <td>7.0</td>\n",
       "      <td>The Sims</td>\n",
       "      <td>Jun-09</td>\n",
       "      <td>Life simulation</td>\n",
       "      <td>Maxis</td>\n",
       "      <td>Electronic Arts</td>\n",
       "    </tr>\n",
       "    <tr>\n",
       "      <th>16</th>\n",
       "      <td>Euro Truck Simulator 2</td>\n",
       "      <td>6.5</td>\n",
       "      <td>Truck Simulator</td>\n",
       "      <td>Oct-12</td>\n",
       "      <td>Vehicle simulation</td>\n",
       "      <td>SCS Software</td>\n",
       "      <td>SCS Software</td>\n",
       "    </tr>\n",
       "    <tr>\n",
       "      <th>17</th>\n",
       "      <td>Guild Wars</td>\n",
       "      <td>6.0</td>\n",
       "      <td>Guild Wars</td>\n",
       "      <td>Apr-05</td>\n",
       "      <td>MMORPG</td>\n",
       "      <td>ArenaNet</td>\n",
       "      <td>NCsoft</td>\n",
       "    </tr>\n",
       "    <tr>\n",
       "      <th>18</th>\n",
       "      <td>StarCraft II: Wings of Liberty</td>\n",
       "      <td>6.0</td>\n",
       "      <td>StarCraft</td>\n",
       "      <td>Jul-10</td>\n",
       "      <td>Real-time strategy</td>\n",
       "      <td>Blizzard Entertainment</td>\n",
       "      <td>Blizzard Entertainment</td>\n",
       "    </tr>\n",
       "    <tr>\n",
       "      <th>19</th>\n",
       "      <td>The Sims 2</td>\n",
       "      <td>6.0</td>\n",
       "      <td>The Sims</td>\n",
       "      <td>Sep-04</td>\n",
       "      <td>Life simulation</td>\n",
       "      <td>Maxis</td>\n",
       "      <td>Electronic Arts</td>\n",
       "    </tr>\n",
       "  </tbody>\n",
       "</table>\n",
       "</div>"
      ],
      "text/plain": [
       "                              Name  Sales                Series Release  \\\n",
       "0    PlayerUnknown's Battlegrounds   42.0                   NaN  Dec-17   \n",
       "1                        Minecraft   33.0             Minecraft  Nov-11   \n",
       "2                       Diablo III   20.0                Diablo  May-12   \n",
       "3                      Garry's Mod   20.0                   NaN  Nov-06   \n",
       "4                         Terraria   17.2                   NaN  May-11   \n",
       "5                World of Warcraft   14.0              Warcraft  Nov-04   \n",
       "6                      Half-Life 2   12.0             Half-Life  Nov-04   \n",
       "7         The Witcher 3: Wild Hunt   12.0           The Witcher  May-15   \n",
       "8                        StarCraft   11.0             StarCraft  Mar-98   \n",
       "9                         The Sims   11.0              The Sims  Feb-00   \n",
       "10                       Fall Guys   10.0                   NaN  Aug-20   \n",
       "11          RollerCoaster Tycoon 3   10.0  RollerCoaster Tycoon  Oct-04   \n",
       "12                       Half-Life    9.0             Half-Life  Nov-98   \n",
       "13                            Rust    9.0                   NaN  Feb-18   \n",
       "14                  Civilization V    8.0          Civilization  Sep-10   \n",
       "15                      The Sims 3    7.0              The Sims  Jun-09   \n",
       "16          Euro Truck Simulator 2    6.5       Truck Simulator  Oct-12   \n",
       "17                      Guild Wars    6.0            Guild Wars  Apr-05   \n",
       "18  StarCraft II: Wings of Liberty    6.0             StarCraft  Jul-10   \n",
       "19                      The Sims 2    6.0              The Sims  Sep-04   \n",
       "\n",
       "                                     Genre               Developer  \\\n",
       "0                            Battle royale            PUBG Studios   \n",
       "1                        Sandbox, survival          Mojang Studios   \n",
       "2                      Action role-playing  Blizzard Entertainment   \n",
       "3                                  Sandbox       Facepunch Studios   \n",
       "4                         Action-adventure                Re-Logic   \n",
       "5                                   MMORPG  Blizzard Entertainment   \n",
       "6                     First-person shooter                   Valve   \n",
       "7                      Action role-playing          CD Projekt Red   \n",
       "8                       Real-time strategy  Blizzard Entertainment   \n",
       "9                          Life simulation                   Maxis   \n",
       "10                           Battle royale              Mediatonic   \n",
       "11  Construction and management simulation   Frontier Developments   \n",
       "12                    First-person shooter                   Valve   \n",
       "13                                Survival       Facepunch Studios   \n",
       "14                 Turn-based strategy, 4X           Firaxis Games   \n",
       "15                         Life simulation                   Maxis   \n",
       "16                      Vehicle simulation            SCS Software   \n",
       "17                                  MMORPG                ArenaNet   \n",
       "18                      Real-time strategy  Blizzard Entertainment   \n",
       "19                         Life simulation                   Maxis   \n",
       "\n",
       "                 Publisher  \n",
       "0                  Krafton  \n",
       "1           Mojang Studios  \n",
       "2   Blizzard Entertainment  \n",
       "3                    Valve  \n",
       "4                 Re-Logic  \n",
       "5   Blizzard Entertainment  \n",
       "6          Valve (digital)  \n",
       "7               CD Projekt  \n",
       "8   Blizzard Entertainment  \n",
       "9          Electronic Arts  \n",
       "10        Devolver Digital  \n",
       "11   Atari, Inc. (Windows)  \n",
       "12    Sierra Entertainment  \n",
       "13       Facepunch Studios  \n",
       "14        2K Games & Aspyr  \n",
       "15         Electronic Arts  \n",
       "16            SCS Software  \n",
       "17                  NCsoft  \n",
       "18  Blizzard Entertainment  \n",
       "19         Electronic Arts  "
      ]
     },
     "execution_count": 68,
     "metadata": {},
     "output_type": "execute_result"
    }
   ],
   "source": [
    "df = pd.read_csv('Games.csv')\n",
    "df.head(20)"
   ]
  },
  {
   "cell_type": "code",
   "execution_count": 69,
   "id": "fe61727d",
   "metadata": {},
   "outputs": [],
   "source": [
    "import plotly.offline as pyo\n",
    "import plotly.graph_objs as go\n",
    "import plotly.express as px"
   ]
  },
  {
   "cell_type": "code",
   "execution_count": 72,
   "id": "0b9d31ba",
   "metadata": {},
   "outputs": [
    {
     "data": {
      "application/vnd.plotly.v1+json": {
       "config": {
        "plotlyServerURL": "https://plot.ly"
       },
       "data": [
        {
         "branchvalues": "total",
         "domain": {
          "x": [
           0,
           1
          ],
          "y": [
           0,
           1
          ]
         },
         "hovertemplate": "labels=%{label}<br>Sales=%{value}<br>parent=%{parent}<br>id=%{id}<extra></extra>",
         "ids": [
          "Diablo III/Action role-playing",
          "The Witcher 3: Wild Hunt/Action role-playing",
          "Terraria/Action-adventure",
          "Fall Guys/Battle royale",
          "PlayerUnknown's Battlegrounds/Battle royale",
          "RollerCoaster Tycoon 3/Construction and management simulation",
          "Half-Life/First-person shooter",
          "Half-Life 2/First-person shooter",
          "The Sims/Life simulation",
          "The Sims 2/Life simulation",
          "The Sims 3/Life simulation",
          "Guild Wars/MMORPG",
          "World of Warcraft/MMORPG",
          "StarCraft/Real-time strategy",
          "StarCraft II: Wings of Liberty/Real-time strategy",
          "Garry's Mod/Sandbox",
          "Minecraft/Sandbox, survival",
          "Rust/Survival",
          "Civilization V/Turn-based strategy, 4X",
          "Euro Truck Simulator 2/Vehicle simulation",
          "Civilization V",
          "Diablo III",
          "Euro Truck Simulator 2",
          "Fall Guys",
          "Garry's Mod",
          "Guild Wars",
          "Half-Life",
          "Half-Life 2",
          "Minecraft",
          "PlayerUnknown's Battlegrounds",
          "RollerCoaster Tycoon 3",
          "Rust",
          "StarCraft",
          "StarCraft II: Wings of Liberty",
          "Terraria",
          "The Sims",
          "The Sims 2",
          "The Sims 3",
          "The Witcher 3: Wild Hunt",
          "World of Warcraft"
         ],
         "labels": [
          "Action role-playing",
          "Action role-playing",
          "Action-adventure",
          "Battle royale",
          "Battle royale",
          "Construction and management simulation",
          "First-person shooter",
          "First-person shooter",
          "Life simulation",
          "Life simulation",
          "Life simulation",
          "MMORPG",
          "MMORPG",
          "Real-time strategy",
          "Real-time strategy",
          "Sandbox",
          "Sandbox, survival",
          "Survival",
          "Turn-based strategy, 4X",
          "Vehicle simulation",
          "Civilization V",
          "Diablo III",
          "Euro Truck Simulator 2",
          "Fall Guys",
          "Garry's Mod",
          "Guild Wars",
          "Half-Life",
          "Half-Life 2",
          "Minecraft",
          "PlayerUnknown's Battlegrounds",
          "RollerCoaster Tycoon 3",
          "Rust",
          "StarCraft",
          "StarCraft II: Wings of Liberty",
          "Terraria",
          "The Sims",
          "The Sims 2",
          "The Sims 3",
          "The Witcher 3: Wild Hunt",
          "World of Warcraft"
         ],
         "name": "",
         "parents": [
          "Diablo III",
          "The Witcher 3: Wild Hunt",
          "Terraria",
          "Fall Guys",
          "PlayerUnknown's Battlegrounds",
          "RollerCoaster Tycoon 3",
          "Half-Life",
          "Half-Life 2",
          "The Sims",
          "The Sims 2",
          "The Sims 3",
          "Guild Wars",
          "World of Warcraft",
          "StarCraft",
          "StarCraft II: Wings of Liberty",
          "Garry's Mod",
          "Minecraft",
          "Rust",
          "Civilization V",
          "Euro Truck Simulator 2",
          "",
          "",
          "",
          "",
          "",
          "",
          "",
          "",
          "",
          "",
          "",
          "",
          "",
          "",
          "",
          "",
          "",
          "",
          "",
          ""
         ],
         "type": "treemap",
         "values": [
          20,
          12,
          17.2,
          10,
          42,
          10,
          9,
          12,
          11,
          6,
          7,
          6,
          14,
          11,
          6,
          20,
          33,
          9,
          8,
          6.5,
          8,
          20,
          6.5,
          10,
          20,
          6,
          9,
          12,
          33,
          42,
          10,
          9,
          11,
          6,
          17.2,
          11,
          6,
          7,
          12,
          14
         ]
        }
       ],
       "layout": {
        "legend": {
         "tracegroupgap": 0
        },
        "margin": {
         "t": 60
        },
        "template": {
         "data": {
          "bar": [
           {
            "error_x": {
             "color": "#2a3f5f"
            },
            "error_y": {
             "color": "#2a3f5f"
            },
            "marker": {
             "line": {
              "color": "#E5ECF6",
              "width": 0.5
             },
             "pattern": {
              "fillmode": "overlay",
              "size": 10,
              "solidity": 0.2
             }
            },
            "type": "bar"
           }
          ],
          "barpolar": [
           {
            "marker": {
             "line": {
              "color": "#E5ECF6",
              "width": 0.5
             },
             "pattern": {
              "fillmode": "overlay",
              "size": 10,
              "solidity": 0.2
             }
            },
            "type": "barpolar"
           }
          ],
          "carpet": [
           {
            "aaxis": {
             "endlinecolor": "#2a3f5f",
             "gridcolor": "white",
             "linecolor": "white",
             "minorgridcolor": "white",
             "startlinecolor": "#2a3f5f"
            },
            "baxis": {
             "endlinecolor": "#2a3f5f",
             "gridcolor": "white",
             "linecolor": "white",
             "minorgridcolor": "white",
             "startlinecolor": "#2a3f5f"
            },
            "type": "carpet"
           }
          ],
          "choropleth": [
           {
            "colorbar": {
             "outlinewidth": 0,
             "ticks": ""
            },
            "type": "choropleth"
           }
          ],
          "contour": [
           {
            "colorbar": {
             "outlinewidth": 0,
             "ticks": ""
            },
            "colorscale": [
             [
              0,
              "#0d0887"
             ],
             [
              0.1111111111111111,
              "#46039f"
             ],
             [
              0.2222222222222222,
              "#7201a8"
             ],
             [
              0.3333333333333333,
              "#9c179e"
             ],
             [
              0.4444444444444444,
              "#bd3786"
             ],
             [
              0.5555555555555556,
              "#d8576b"
             ],
             [
              0.6666666666666666,
              "#ed7953"
             ],
             [
              0.7777777777777778,
              "#fb9f3a"
             ],
             [
              0.8888888888888888,
              "#fdca26"
             ],
             [
              1,
              "#f0f921"
             ]
            ],
            "type": "contour"
           }
          ],
          "contourcarpet": [
           {
            "colorbar": {
             "outlinewidth": 0,
             "ticks": ""
            },
            "type": "contourcarpet"
           }
          ],
          "heatmap": [
           {
            "colorbar": {
             "outlinewidth": 0,
             "ticks": ""
            },
            "colorscale": [
             [
              0,
              "#0d0887"
             ],
             [
              0.1111111111111111,
              "#46039f"
             ],
             [
              0.2222222222222222,
              "#7201a8"
             ],
             [
              0.3333333333333333,
              "#9c179e"
             ],
             [
              0.4444444444444444,
              "#bd3786"
             ],
             [
              0.5555555555555556,
              "#d8576b"
             ],
             [
              0.6666666666666666,
              "#ed7953"
             ],
             [
              0.7777777777777778,
              "#fb9f3a"
             ],
             [
              0.8888888888888888,
              "#fdca26"
             ],
             [
              1,
              "#f0f921"
             ]
            ],
            "type": "heatmap"
           }
          ],
          "heatmapgl": [
           {
            "colorbar": {
             "outlinewidth": 0,
             "ticks": ""
            },
            "colorscale": [
             [
              0,
              "#0d0887"
             ],
             [
              0.1111111111111111,
              "#46039f"
             ],
             [
              0.2222222222222222,
              "#7201a8"
             ],
             [
              0.3333333333333333,
              "#9c179e"
             ],
             [
              0.4444444444444444,
              "#bd3786"
             ],
             [
              0.5555555555555556,
              "#d8576b"
             ],
             [
              0.6666666666666666,
              "#ed7953"
             ],
             [
              0.7777777777777778,
              "#fb9f3a"
             ],
             [
              0.8888888888888888,
              "#fdca26"
             ],
             [
              1,
              "#f0f921"
             ]
            ],
            "type": "heatmapgl"
           }
          ],
          "histogram": [
           {
            "marker": {
             "pattern": {
              "fillmode": "overlay",
              "size": 10,
              "solidity": 0.2
             }
            },
            "type": "histogram"
           }
          ],
          "histogram2d": [
           {
            "colorbar": {
             "outlinewidth": 0,
             "ticks": ""
            },
            "colorscale": [
             [
              0,
              "#0d0887"
             ],
             [
              0.1111111111111111,
              "#46039f"
             ],
             [
              0.2222222222222222,
              "#7201a8"
             ],
             [
              0.3333333333333333,
              "#9c179e"
             ],
             [
              0.4444444444444444,
              "#bd3786"
             ],
             [
              0.5555555555555556,
              "#d8576b"
             ],
             [
              0.6666666666666666,
              "#ed7953"
             ],
             [
              0.7777777777777778,
              "#fb9f3a"
             ],
             [
              0.8888888888888888,
              "#fdca26"
             ],
             [
              1,
              "#f0f921"
             ]
            ],
            "type": "histogram2d"
           }
          ],
          "histogram2dcontour": [
           {
            "colorbar": {
             "outlinewidth": 0,
             "ticks": ""
            },
            "colorscale": [
             [
              0,
              "#0d0887"
             ],
             [
              0.1111111111111111,
              "#46039f"
             ],
             [
              0.2222222222222222,
              "#7201a8"
             ],
             [
              0.3333333333333333,
              "#9c179e"
             ],
             [
              0.4444444444444444,
              "#bd3786"
             ],
             [
              0.5555555555555556,
              "#d8576b"
             ],
             [
              0.6666666666666666,
              "#ed7953"
             ],
             [
              0.7777777777777778,
              "#fb9f3a"
             ],
             [
              0.8888888888888888,
              "#fdca26"
             ],
             [
              1,
              "#f0f921"
             ]
            ],
            "type": "histogram2dcontour"
           }
          ],
          "mesh3d": [
           {
            "colorbar": {
             "outlinewidth": 0,
             "ticks": ""
            },
            "type": "mesh3d"
           }
          ],
          "parcoords": [
           {
            "line": {
             "colorbar": {
              "outlinewidth": 0,
              "ticks": ""
             }
            },
            "type": "parcoords"
           }
          ],
          "pie": [
           {
            "automargin": true,
            "type": "pie"
           }
          ],
          "scatter": [
           {
            "fillpattern": {
             "fillmode": "overlay",
             "size": 10,
             "solidity": 0.2
            },
            "type": "scatter"
           }
          ],
          "scatter3d": [
           {
            "line": {
             "colorbar": {
              "outlinewidth": 0,
              "ticks": ""
             }
            },
            "marker": {
             "colorbar": {
              "outlinewidth": 0,
              "ticks": ""
             }
            },
            "type": "scatter3d"
           }
          ],
          "scattercarpet": [
           {
            "marker": {
             "colorbar": {
              "outlinewidth": 0,
              "ticks": ""
             }
            },
            "type": "scattercarpet"
           }
          ],
          "scattergeo": [
           {
            "marker": {
             "colorbar": {
              "outlinewidth": 0,
              "ticks": ""
             }
            },
            "type": "scattergeo"
           }
          ],
          "scattergl": [
           {
            "marker": {
             "colorbar": {
              "outlinewidth": 0,
              "ticks": ""
             }
            },
            "type": "scattergl"
           }
          ],
          "scattermapbox": [
           {
            "marker": {
             "colorbar": {
              "outlinewidth": 0,
              "ticks": ""
             }
            },
            "type": "scattermapbox"
           }
          ],
          "scatterpolar": [
           {
            "marker": {
             "colorbar": {
              "outlinewidth": 0,
              "ticks": ""
             }
            },
            "type": "scatterpolar"
           }
          ],
          "scatterpolargl": [
           {
            "marker": {
             "colorbar": {
              "outlinewidth": 0,
              "ticks": ""
             }
            },
            "type": "scatterpolargl"
           }
          ],
          "scatterternary": [
           {
            "marker": {
             "colorbar": {
              "outlinewidth": 0,
              "ticks": ""
             }
            },
            "type": "scatterternary"
           }
          ],
          "surface": [
           {
            "colorbar": {
             "outlinewidth": 0,
             "ticks": ""
            },
            "colorscale": [
             [
              0,
              "#0d0887"
             ],
             [
              0.1111111111111111,
              "#46039f"
             ],
             [
              0.2222222222222222,
              "#7201a8"
             ],
             [
              0.3333333333333333,
              "#9c179e"
             ],
             [
              0.4444444444444444,
              "#bd3786"
             ],
             [
              0.5555555555555556,
              "#d8576b"
             ],
             [
              0.6666666666666666,
              "#ed7953"
             ],
             [
              0.7777777777777778,
              "#fb9f3a"
             ],
             [
              0.8888888888888888,
              "#fdca26"
             ],
             [
              1,
              "#f0f921"
             ]
            ],
            "type": "surface"
           }
          ],
          "table": [
           {
            "cells": {
             "fill": {
              "color": "#EBF0F8"
             },
             "line": {
              "color": "white"
             }
            },
            "header": {
             "fill": {
              "color": "#C8D4E3"
             },
             "line": {
              "color": "white"
             }
            },
            "type": "table"
           }
          ]
         },
         "layout": {
          "annotationdefaults": {
           "arrowcolor": "#2a3f5f",
           "arrowhead": 0,
           "arrowwidth": 1
          },
          "autotypenumbers": "strict",
          "coloraxis": {
           "colorbar": {
            "outlinewidth": 0,
            "ticks": ""
           }
          },
          "colorscale": {
           "diverging": [
            [
             0,
             "#8e0152"
            ],
            [
             0.1,
             "#c51b7d"
            ],
            [
             0.2,
             "#de77ae"
            ],
            [
             0.3,
             "#f1b6da"
            ],
            [
             0.4,
             "#fde0ef"
            ],
            [
             0.5,
             "#f7f7f7"
            ],
            [
             0.6,
             "#e6f5d0"
            ],
            [
             0.7,
             "#b8e186"
            ],
            [
             0.8,
             "#7fbc41"
            ],
            [
             0.9,
             "#4d9221"
            ],
            [
             1,
             "#276419"
            ]
           ],
           "sequential": [
            [
             0,
             "#0d0887"
            ],
            [
             0.1111111111111111,
             "#46039f"
            ],
            [
             0.2222222222222222,
             "#7201a8"
            ],
            [
             0.3333333333333333,
             "#9c179e"
            ],
            [
             0.4444444444444444,
             "#bd3786"
            ],
            [
             0.5555555555555556,
             "#d8576b"
            ],
            [
             0.6666666666666666,
             "#ed7953"
            ],
            [
             0.7777777777777778,
             "#fb9f3a"
            ],
            [
             0.8888888888888888,
             "#fdca26"
            ],
            [
             1,
             "#f0f921"
            ]
           ],
           "sequentialminus": [
            [
             0,
             "#0d0887"
            ],
            [
             0.1111111111111111,
             "#46039f"
            ],
            [
             0.2222222222222222,
             "#7201a8"
            ],
            [
             0.3333333333333333,
             "#9c179e"
            ],
            [
             0.4444444444444444,
             "#bd3786"
            ],
            [
             0.5555555555555556,
             "#d8576b"
            ],
            [
             0.6666666666666666,
             "#ed7953"
            ],
            [
             0.7777777777777778,
             "#fb9f3a"
            ],
            [
             0.8888888888888888,
             "#fdca26"
            ],
            [
             1,
             "#f0f921"
            ]
           ]
          },
          "colorway": [
           "#636efa",
           "#EF553B",
           "#00cc96",
           "#ab63fa",
           "#FFA15A",
           "#19d3f3",
           "#FF6692",
           "#B6E880",
           "#FF97FF",
           "#FECB52"
          ],
          "font": {
           "color": "#2a3f5f"
          },
          "geo": {
           "bgcolor": "white",
           "lakecolor": "white",
           "landcolor": "#E5ECF6",
           "showlakes": true,
           "showland": true,
           "subunitcolor": "white"
          },
          "hoverlabel": {
           "align": "left"
          },
          "hovermode": "closest",
          "mapbox": {
           "style": "light"
          },
          "paper_bgcolor": "white",
          "plot_bgcolor": "#E5ECF6",
          "polar": {
           "angularaxis": {
            "gridcolor": "white",
            "linecolor": "white",
            "ticks": ""
           },
           "bgcolor": "#E5ECF6",
           "radialaxis": {
            "gridcolor": "white",
            "linecolor": "white",
            "ticks": ""
           }
          },
          "scene": {
           "xaxis": {
            "backgroundcolor": "#E5ECF6",
            "gridcolor": "white",
            "gridwidth": 2,
            "linecolor": "white",
            "showbackground": true,
            "ticks": "",
            "zerolinecolor": "white"
           },
           "yaxis": {
            "backgroundcolor": "#E5ECF6",
            "gridcolor": "white",
            "gridwidth": 2,
            "linecolor": "white",
            "showbackground": true,
            "ticks": "",
            "zerolinecolor": "white"
           },
           "zaxis": {
            "backgroundcolor": "#E5ECF6",
            "gridcolor": "white",
            "gridwidth": 2,
            "linecolor": "white",
            "showbackground": true,
            "ticks": "",
            "zerolinecolor": "white"
           }
          },
          "shapedefaults": {
           "line": {
            "color": "#2a3f5f"
           }
          },
          "ternary": {
           "aaxis": {
            "gridcolor": "white",
            "linecolor": "white",
            "ticks": ""
           },
           "baxis": {
            "gridcolor": "white",
            "linecolor": "white",
            "ticks": ""
           },
           "bgcolor": "#E5ECF6",
           "caxis": {
            "gridcolor": "white",
            "linecolor": "white",
            "ticks": ""
           }
          },
          "title": {
           "x": 0.05
          },
          "xaxis": {
           "automargin": true,
           "gridcolor": "white",
           "linecolor": "white",
           "ticks": "",
           "title": {
            "standoff": 15
           },
           "zerolinecolor": "white",
           "zerolinewidth": 2
          },
          "yaxis": {
           "automargin": true,
           "gridcolor": "white",
           "linecolor": "white",
           "ticks": "",
           "title": {
            "standoff": 15
           },
           "zerolinecolor": "white",
           "zerolinewidth": 2
          }
         }
        }
       }
      },
      "text/html": [
       "<div>                            <div id=\"aa8327e0-7fa1-4e9e-ad9c-6a3119fcfccc\" class=\"plotly-graph-div\" style=\"height:525px; width:100%;\"></div>            <script type=\"text/javascript\">                require([\"plotly\"], function(Plotly) {                    window.PLOTLYENV=window.PLOTLYENV || {};                                    if (document.getElementById(\"aa8327e0-7fa1-4e9e-ad9c-6a3119fcfccc\")) {                    Plotly.newPlot(                        \"aa8327e0-7fa1-4e9e-ad9c-6a3119fcfccc\",                        [{\"branchvalues\":\"total\",\"domain\":{\"x\":[0.0,1.0],\"y\":[0.0,1.0]},\"hovertemplate\":\"labels=%{label}<br>Sales=%{value}<br>parent=%{parent}<br>id=%{id}<extra></extra>\",\"ids\":[\"Diablo III/Action role-playing\",\"The Witcher 3: Wild Hunt/Action role-playing\",\"Terraria/Action-adventure\",\"Fall Guys/Battle royale\",\"PlayerUnknown's Battlegrounds/Battle royale\",\"RollerCoaster Tycoon 3/Construction and management simulation\",\"Half-Life/First-person shooter\",\"Half-Life 2/First-person shooter\",\"The Sims/Life simulation\",\"The Sims 2/Life simulation\",\"The Sims 3/Life simulation\",\"Guild Wars/MMORPG\",\"World of Warcraft/MMORPG\",\"StarCraft/Real-time strategy\",\"StarCraft II: Wings of Liberty/Real-time strategy\",\"Garry's Mod/Sandbox\",\"Minecraft/Sandbox,\\u00a0survival\",\"Rust/Survival\",\"Civilization V/Turn-based strategy,\\u00a04X\",\"Euro Truck Simulator 2/Vehicle simulation\",\"Civilization V\",\"Diablo III\",\"Euro Truck Simulator 2\",\"Fall Guys\",\"Garry's Mod\",\"Guild Wars\",\"Half-Life\",\"Half-Life 2\",\"Minecraft\",\"PlayerUnknown's Battlegrounds\",\"RollerCoaster Tycoon 3\",\"Rust\",\"StarCraft\",\"StarCraft II: Wings of Liberty\",\"Terraria\",\"The Sims\",\"The Sims 2\",\"The Sims 3\",\"The Witcher 3: Wild Hunt\",\"World of Warcraft\"],\"labels\":[\"Action role-playing\",\"Action role-playing\",\"Action-adventure\",\"Battle royale\",\"Battle royale\",\"Construction and management simulation\",\"First-person shooter\",\"First-person shooter\",\"Life simulation\",\"Life simulation\",\"Life simulation\",\"MMORPG\",\"MMORPG\",\"Real-time strategy\",\"Real-time strategy\",\"Sandbox\",\"Sandbox,\\u00a0survival\",\"Survival\",\"Turn-based strategy,\\u00a04X\",\"Vehicle simulation\",\"Civilization V\",\"Diablo III\",\"Euro Truck Simulator 2\",\"Fall Guys\",\"Garry's Mod\",\"Guild Wars\",\"Half-Life\",\"Half-Life 2\",\"Minecraft\",\"PlayerUnknown's Battlegrounds\",\"RollerCoaster Tycoon 3\",\"Rust\",\"StarCraft\",\"StarCraft II: Wings of Liberty\",\"Terraria\",\"The Sims\",\"The Sims 2\",\"The Sims 3\",\"The Witcher 3: Wild Hunt\",\"World of Warcraft\"],\"name\":\"\",\"parents\":[\"Diablo III\",\"The Witcher 3: Wild Hunt\",\"Terraria\",\"Fall Guys\",\"PlayerUnknown's Battlegrounds\",\"RollerCoaster Tycoon 3\",\"Half-Life\",\"Half-Life 2\",\"The Sims\",\"The Sims 2\",\"The Sims 3\",\"Guild Wars\",\"World of Warcraft\",\"StarCraft\",\"StarCraft II: Wings of Liberty\",\"Garry's Mod\",\"Minecraft\",\"Rust\",\"Civilization V\",\"Euro Truck Simulator 2\",\"\",\"\",\"\",\"\",\"\",\"\",\"\",\"\",\"\",\"\",\"\",\"\",\"\",\"\",\"\",\"\",\"\",\"\",\"\",\"\"],\"values\":[20.0,12.0,17.2,10.0,42.0,10.0,9.0,12.0,11.0,6.0,7.0,6.0,14.0,11.0,6.0,20.0,33.0,9.0,8.0,6.5,8.0,20.0,6.5,10.0,20.0,6.0,9.0,12.0,33.0,42.0,10.0,9.0,11.0,6.0,17.2,11.0,6.0,7.0,12.0,14.0],\"type\":\"treemap\"}],                        {\"template\":{\"data\":{\"histogram2dcontour\":[{\"type\":\"histogram2dcontour\",\"colorbar\":{\"outlinewidth\":0,\"ticks\":\"\"},\"colorscale\":[[0.0,\"#0d0887\"],[0.1111111111111111,\"#46039f\"],[0.2222222222222222,\"#7201a8\"],[0.3333333333333333,\"#9c179e\"],[0.4444444444444444,\"#bd3786\"],[0.5555555555555556,\"#d8576b\"],[0.6666666666666666,\"#ed7953\"],[0.7777777777777778,\"#fb9f3a\"],[0.8888888888888888,\"#fdca26\"],[1.0,\"#f0f921\"]]}],\"choropleth\":[{\"type\":\"choropleth\",\"colorbar\":{\"outlinewidth\":0,\"ticks\":\"\"}}],\"histogram2d\":[{\"type\":\"histogram2d\",\"colorbar\":{\"outlinewidth\":0,\"ticks\":\"\"},\"colorscale\":[[0.0,\"#0d0887\"],[0.1111111111111111,\"#46039f\"],[0.2222222222222222,\"#7201a8\"],[0.3333333333333333,\"#9c179e\"],[0.4444444444444444,\"#bd3786\"],[0.5555555555555556,\"#d8576b\"],[0.6666666666666666,\"#ed7953\"],[0.7777777777777778,\"#fb9f3a\"],[0.8888888888888888,\"#fdca26\"],[1.0,\"#f0f921\"]]}],\"heatmap\":[{\"type\":\"heatmap\",\"colorbar\":{\"outlinewidth\":0,\"ticks\":\"\"},\"colorscale\":[[0.0,\"#0d0887\"],[0.1111111111111111,\"#46039f\"],[0.2222222222222222,\"#7201a8\"],[0.3333333333333333,\"#9c179e\"],[0.4444444444444444,\"#bd3786\"],[0.5555555555555556,\"#d8576b\"],[0.6666666666666666,\"#ed7953\"],[0.7777777777777778,\"#fb9f3a\"],[0.8888888888888888,\"#fdca26\"],[1.0,\"#f0f921\"]]}],\"heatmapgl\":[{\"type\":\"heatmapgl\",\"colorbar\":{\"outlinewidth\":0,\"ticks\":\"\"},\"colorscale\":[[0.0,\"#0d0887\"],[0.1111111111111111,\"#46039f\"],[0.2222222222222222,\"#7201a8\"],[0.3333333333333333,\"#9c179e\"],[0.4444444444444444,\"#bd3786\"],[0.5555555555555556,\"#d8576b\"],[0.6666666666666666,\"#ed7953\"],[0.7777777777777778,\"#fb9f3a\"],[0.8888888888888888,\"#fdca26\"],[1.0,\"#f0f921\"]]}],\"contourcarpet\":[{\"type\":\"contourcarpet\",\"colorbar\":{\"outlinewidth\":0,\"ticks\":\"\"}}],\"contour\":[{\"type\":\"contour\",\"colorbar\":{\"outlinewidth\":0,\"ticks\":\"\"},\"colorscale\":[[0.0,\"#0d0887\"],[0.1111111111111111,\"#46039f\"],[0.2222222222222222,\"#7201a8\"],[0.3333333333333333,\"#9c179e\"],[0.4444444444444444,\"#bd3786\"],[0.5555555555555556,\"#d8576b\"],[0.6666666666666666,\"#ed7953\"],[0.7777777777777778,\"#fb9f3a\"],[0.8888888888888888,\"#fdca26\"],[1.0,\"#f0f921\"]]}],\"surface\":[{\"type\":\"surface\",\"colorbar\":{\"outlinewidth\":0,\"ticks\":\"\"},\"colorscale\":[[0.0,\"#0d0887\"],[0.1111111111111111,\"#46039f\"],[0.2222222222222222,\"#7201a8\"],[0.3333333333333333,\"#9c179e\"],[0.4444444444444444,\"#bd3786\"],[0.5555555555555556,\"#d8576b\"],[0.6666666666666666,\"#ed7953\"],[0.7777777777777778,\"#fb9f3a\"],[0.8888888888888888,\"#fdca26\"],[1.0,\"#f0f921\"]]}],\"mesh3d\":[{\"type\":\"mesh3d\",\"colorbar\":{\"outlinewidth\":0,\"ticks\":\"\"}}],\"scatter\":[{\"fillpattern\":{\"fillmode\":\"overlay\",\"size\":10,\"solidity\":0.2},\"type\":\"scatter\"}],\"parcoords\":[{\"type\":\"parcoords\",\"line\":{\"colorbar\":{\"outlinewidth\":0,\"ticks\":\"\"}}}],\"scatterpolargl\":[{\"type\":\"scatterpolargl\",\"marker\":{\"colorbar\":{\"outlinewidth\":0,\"ticks\":\"\"}}}],\"bar\":[{\"error_x\":{\"color\":\"#2a3f5f\"},\"error_y\":{\"color\":\"#2a3f5f\"},\"marker\":{\"line\":{\"color\":\"#E5ECF6\",\"width\":0.5},\"pattern\":{\"fillmode\":\"overlay\",\"size\":10,\"solidity\":0.2}},\"type\":\"bar\"}],\"scattergeo\":[{\"type\":\"scattergeo\",\"marker\":{\"colorbar\":{\"outlinewidth\":0,\"ticks\":\"\"}}}],\"scatterpolar\":[{\"type\":\"scatterpolar\",\"marker\":{\"colorbar\":{\"outlinewidth\":0,\"ticks\":\"\"}}}],\"histogram\":[{\"marker\":{\"pattern\":{\"fillmode\":\"overlay\",\"size\":10,\"solidity\":0.2}},\"type\":\"histogram\"}],\"scattergl\":[{\"type\":\"scattergl\",\"marker\":{\"colorbar\":{\"outlinewidth\":0,\"ticks\":\"\"}}}],\"scatter3d\":[{\"type\":\"scatter3d\",\"line\":{\"colorbar\":{\"outlinewidth\":0,\"ticks\":\"\"}},\"marker\":{\"colorbar\":{\"outlinewidth\":0,\"ticks\":\"\"}}}],\"scattermapbox\":[{\"type\":\"scattermapbox\",\"marker\":{\"colorbar\":{\"outlinewidth\":0,\"ticks\":\"\"}}}],\"scatterternary\":[{\"type\":\"scatterternary\",\"marker\":{\"colorbar\":{\"outlinewidth\":0,\"ticks\":\"\"}}}],\"scattercarpet\":[{\"type\":\"scattercarpet\",\"marker\":{\"colorbar\":{\"outlinewidth\":0,\"ticks\":\"\"}}}],\"carpet\":[{\"aaxis\":{\"endlinecolor\":\"#2a3f5f\",\"gridcolor\":\"white\",\"linecolor\":\"white\",\"minorgridcolor\":\"white\",\"startlinecolor\":\"#2a3f5f\"},\"baxis\":{\"endlinecolor\":\"#2a3f5f\",\"gridcolor\":\"white\",\"linecolor\":\"white\",\"minorgridcolor\":\"white\",\"startlinecolor\":\"#2a3f5f\"},\"type\":\"carpet\"}],\"table\":[{\"cells\":{\"fill\":{\"color\":\"#EBF0F8\"},\"line\":{\"color\":\"white\"}},\"header\":{\"fill\":{\"color\":\"#C8D4E3\"},\"line\":{\"color\":\"white\"}},\"type\":\"table\"}],\"barpolar\":[{\"marker\":{\"line\":{\"color\":\"#E5ECF6\",\"width\":0.5},\"pattern\":{\"fillmode\":\"overlay\",\"size\":10,\"solidity\":0.2}},\"type\":\"barpolar\"}],\"pie\":[{\"automargin\":true,\"type\":\"pie\"}]},\"layout\":{\"autotypenumbers\":\"strict\",\"colorway\":[\"#636efa\",\"#EF553B\",\"#00cc96\",\"#ab63fa\",\"#FFA15A\",\"#19d3f3\",\"#FF6692\",\"#B6E880\",\"#FF97FF\",\"#FECB52\"],\"font\":{\"color\":\"#2a3f5f\"},\"hovermode\":\"closest\",\"hoverlabel\":{\"align\":\"left\"},\"paper_bgcolor\":\"white\",\"plot_bgcolor\":\"#E5ECF6\",\"polar\":{\"bgcolor\":\"#E5ECF6\",\"angularaxis\":{\"gridcolor\":\"white\",\"linecolor\":\"white\",\"ticks\":\"\"},\"radialaxis\":{\"gridcolor\":\"white\",\"linecolor\":\"white\",\"ticks\":\"\"}},\"ternary\":{\"bgcolor\":\"#E5ECF6\",\"aaxis\":{\"gridcolor\":\"white\",\"linecolor\":\"white\",\"ticks\":\"\"},\"baxis\":{\"gridcolor\":\"white\",\"linecolor\":\"white\",\"ticks\":\"\"},\"caxis\":{\"gridcolor\":\"white\",\"linecolor\":\"white\",\"ticks\":\"\"}},\"coloraxis\":{\"colorbar\":{\"outlinewidth\":0,\"ticks\":\"\"}},\"colorscale\":{\"sequential\":[[0.0,\"#0d0887\"],[0.1111111111111111,\"#46039f\"],[0.2222222222222222,\"#7201a8\"],[0.3333333333333333,\"#9c179e\"],[0.4444444444444444,\"#bd3786\"],[0.5555555555555556,\"#d8576b\"],[0.6666666666666666,\"#ed7953\"],[0.7777777777777778,\"#fb9f3a\"],[0.8888888888888888,\"#fdca26\"],[1.0,\"#f0f921\"]],\"sequentialminus\":[[0.0,\"#0d0887\"],[0.1111111111111111,\"#46039f\"],[0.2222222222222222,\"#7201a8\"],[0.3333333333333333,\"#9c179e\"],[0.4444444444444444,\"#bd3786\"],[0.5555555555555556,\"#d8576b\"],[0.6666666666666666,\"#ed7953\"],[0.7777777777777778,\"#fb9f3a\"],[0.8888888888888888,\"#fdca26\"],[1.0,\"#f0f921\"]],\"diverging\":[[0,\"#8e0152\"],[0.1,\"#c51b7d\"],[0.2,\"#de77ae\"],[0.3,\"#f1b6da\"],[0.4,\"#fde0ef\"],[0.5,\"#f7f7f7\"],[0.6,\"#e6f5d0\"],[0.7,\"#b8e186\"],[0.8,\"#7fbc41\"],[0.9,\"#4d9221\"],[1,\"#276419\"]]},\"xaxis\":{\"gridcolor\":\"white\",\"linecolor\":\"white\",\"ticks\":\"\",\"title\":{\"standoff\":15},\"zerolinecolor\":\"white\",\"automargin\":true,\"zerolinewidth\":2},\"yaxis\":{\"gridcolor\":\"white\",\"linecolor\":\"white\",\"ticks\":\"\",\"title\":{\"standoff\":15},\"zerolinecolor\":\"white\",\"automargin\":true,\"zerolinewidth\":2},\"scene\":{\"xaxis\":{\"backgroundcolor\":\"#E5ECF6\",\"gridcolor\":\"white\",\"linecolor\":\"white\",\"showbackground\":true,\"ticks\":\"\",\"zerolinecolor\":\"white\",\"gridwidth\":2},\"yaxis\":{\"backgroundcolor\":\"#E5ECF6\",\"gridcolor\":\"white\",\"linecolor\":\"white\",\"showbackground\":true,\"ticks\":\"\",\"zerolinecolor\":\"white\",\"gridwidth\":2},\"zaxis\":{\"backgroundcolor\":\"#E5ECF6\",\"gridcolor\":\"white\",\"linecolor\":\"white\",\"showbackground\":true,\"ticks\":\"\",\"zerolinecolor\":\"white\",\"gridwidth\":2}},\"shapedefaults\":{\"line\":{\"color\":\"#2a3f5f\"}},\"annotationdefaults\":{\"arrowcolor\":\"#2a3f5f\",\"arrowhead\":0,\"arrowwidth\":1},\"geo\":{\"bgcolor\":\"white\",\"landcolor\":\"#E5ECF6\",\"subunitcolor\":\"white\",\"showland\":true,\"showlakes\":true,\"lakecolor\":\"white\"},\"title\":{\"x\":0.05},\"mapbox\":{\"style\":\"light\"}}},\"legend\":{\"tracegroupgap\":0},\"margin\":{\"t\":60}},                        {\"responsive\": true}                    ).then(function(){\n",
       "                            \n",
       "var gd = document.getElementById('aa8327e0-7fa1-4e9e-ad9c-6a3119fcfccc');\n",
       "var x = new MutationObserver(function (mutations, observer) {{\n",
       "        var display = window.getComputedStyle(gd).display;\n",
       "        if (!display || display === 'none') {{\n",
       "            console.log([gd, 'removed!']);\n",
       "            Plotly.purge(gd);\n",
       "            observer.disconnect();\n",
       "        }}\n",
       "}});\n",
       "\n",
       "// Listen for the removal of the full notebook cells\n",
       "var notebookContainer = gd.closest('#notebook-container');\n",
       "if (notebookContainer) {{\n",
       "    x.observe(notebookContainer, {childList: true});\n",
       "}}\n",
       "\n",
       "// Listen for the clearing of the current output cell\n",
       "var outputEl = gd.closest('.output');\n",
       "if (outputEl) {{\n",
       "    x.observe(outputEl, {childList: true});\n",
       "}}\n",
       "\n",
       "                        })                };                });            </script>        </div>"
      ]
     },
     "metadata": {},
     "output_type": "display_data"
    }
   ],
   "source": [
    "fig = px.treemap(df[0:20], \n",
    "                 path=['Name', 'Genre',], \n",
    "                 values='Sales'\n",
    "                \n",
    "                )\n",
    "fig.show()"
   ]
  },
  {
   "cell_type": "code",
   "execution_count": null,
   "id": "c6bf6619",
   "metadata": {},
   "outputs": [],
   "source": []
  }
 ],
 "metadata": {
  "kernelspec": {
   "display_name": "Python 3 (ipykernel)",
   "language": "python",
   "name": "python3"
  },
  "language_info": {
   "codemirror_mode": {
    "name": "ipython",
    "version": 3
   },
   "file_extension": ".py",
   "mimetype": "text/x-python",
   "name": "python",
   "nbconvert_exporter": "python",
   "pygments_lexer": "ipython3",
   "version": "3.9.7"
  }
 },
 "nbformat": 4,
 "nbformat_minor": 5
}
